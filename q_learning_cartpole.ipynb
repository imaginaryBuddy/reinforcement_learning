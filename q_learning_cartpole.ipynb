{
 "cells": [
  {
   "cell_type": "markdown",
   "metadata": {
    "id": "mH6pRh1tSszv"
   },
   "source": [
    "# Contributors\n",
    "Yap Shen Hwei (U2140630E): Training the Reinforcement Learning Agent \n",
    "\n",
    "Eddy Cheng Kuan Quan (U2121953D): Making observations \n",
    "\n",
    "Google Colab Link: https://colab.research.google.com/drive/1FAOT8gpGXbndATAiux5qBl9pq-TGgMe9?usp=sharing\n",
    "\n",
    "The video doesn't seem to be rendering on Jupyter notebook, but shows on Google Colab, I had also attached a copy of the video on email. \n",
    "\n",
    "Thank you. "
   ]
  },
  {
   "cell_type": "markdown",
   "metadata": {
    "id": "ZauhjPSfX7pI"
   },
   "source": [
    "# Tutorial and Sample Code for Balancing a Pole on a Cart"
   ]
  },
  {
   "cell_type": "markdown",
   "metadata": {
    "id": "UBiYOoesYMvr"
   },
   "source": [
    "## Installing dependencies:"
   ]
  },
  {
   "cell_type": "code",
   "execution_count": null,
   "metadata": {
    "colab": {
     "base_uri": "https://localhost:8080/"
    },
    "id": "PbgnVwZmX5uW",
    "outputId": "f0c2b5eb-294a-4b70-d6ca-572615d9f9b4"
   },
   "outputs": [
    {
     "name": "stdout",
     "output_type": "stream",
     "text": [
      "Looking in indexes: https://pypi.org/simple, https://us-python.pkg.dev/colab-wheels/public/simple/\n",
      "Requirement already satisfied: gym[classic_control] in /usr/local/lib/python3.9/dist-packages (0.25.2)\n",
      "Requirement already satisfied: cloudpickle>=1.2.0 in /usr/local/lib/python3.9/dist-packages (from gym[classic_control]) (2.2.1)\n",
      "Requirement already satisfied: importlib-metadata>=4.8.0 in /usr/local/lib/python3.9/dist-packages (from gym[classic_control]) (6.1.0)\n",
      "Requirement already satisfied: gym-notices>=0.0.4 in /usr/local/lib/python3.9/dist-packages (from gym[classic_control]) (0.0.8)\n",
      "Requirement already satisfied: numpy>=1.18.0 in /usr/local/lib/python3.9/dist-packages (from gym[classic_control]) (1.22.4)\n",
      "Requirement already satisfied: pygame==2.1.0 in /usr/local/lib/python3.9/dist-packages (from gym[classic_control]) (2.1.0)\n",
      "Requirement already satisfied: zipp>=0.5 in /usr/local/lib/python3.9/dist-packages (from importlib-metadata>=4.8.0->gym[classic_control]) (3.15.0)\n",
      "Looking in indexes: https://pypi.org/simple, https://us-python.pkg.dev/colab-wheels/public/simple/\n",
      "Requirement already satisfied: setuptools in /usr/local/lib/python3.9/dist-packages (67.6.0)\n"
     ]
    }
   ],
   "source": [
    "!apt-get install -y xvfb python-opengl > /dev/null 2>&1\n",
    "!pip install gym pyvirtualdisplay > /dev/null 2>&1\n",
    "!pip install gym pyvirtualdisplay > /dev/null 2>&1\n",
    "!apt-get install -y xvfb python-opengl ffmpeg > /dev/null 2>&1\n",
    "!pip install gym[classic_control]\n",
    "!apt-get update > /dev/null 2>&1\n",
    "!apt-get install cmake > /dev/null 2>&1\n",
    "!pip install --upgrade setuptools 2>&1\n",
    "!pip install ez_setup > /dev/null 2>&1"
   ]
  },
  {
   "cell_type": "markdown",
   "metadata": {
    "id": "RwKbYeTgbaTA"
   },
   "source": [
    "## Importing dependencies and define helper functions"
   ]
  },
  {
   "cell_type": "code",
   "execution_count": null,
   "metadata": {
    "id": "j6KpgCLGYWmj"
   },
   "outputs": [],
   "source": [
    "import gym\n",
    "from gym import logger as gymlogger\n",
    "from gym.wrappers import RecordVideo\n",
    "gymlogger.set_level(40) #error only\n",
    "import tensorflow as tf\n",
    "import numpy as np\n",
    "import random\n",
    "import matplotlib\n",
    "import matplotlib.pyplot as plt\n",
    "%matplotlib inline\n",
    "import math\n",
    "import glob\n",
    "import io\n",
    "import base64\n",
    "from IPython.display import HTML\n",
    "from IPython import display as ipythondisplay\n",
    "\n",
    "def show_video():\n",
    "  mp4list = glob.glob('video/*.mp4')\n",
    "  if len(mp4list) > 0:\n",
    "    mp4 = mp4list[0]\n",
    "    video = io.open(mp4, 'r+b').read()\n",
    "    encoded = base64.b64encode(video)\n",
    "    ipythondisplay.display(HTML(data='''<video alt=\"test\" autoplay \n",
    "                loop controls style=\"height: 400px;\">\n",
    "                <source src=\"data:video/mp4;base64,{0}\" type=\"video/mp4\" />\n",
    "             </video>'''.format(encoded.decode('ascii'))))\n",
    "  else: \n",
    "    print(\"Could not find video\")"
   ]
  },
  {
   "cell_type": "markdown",
   "metadata": {
    "id": "ehbqP9CXbmo7"
   },
   "source": [
    "## Tutorial: Loading CartPole environment"
   ]
  },
  {
   "cell_type": "code",
   "execution_count": null,
   "metadata": {
    "id": "Go12dH4qbwBy"
   },
   "outputs": [],
   "source": [
    "env = gym.make(\"CartPole-v1\")"
   ]
  },
  {
   "cell_type": "markdown",
   "metadata": {
    "id": "9XZ9g3xrcAXE"
   },
   "source": [
    "We can check the action and observation space of this environment. Discrete(2) means that there are two valid discrete actions: 0 & 1."
   ]
  },
  {
   "cell_type": "code",
   "execution_count": null,
   "metadata": {
    "colab": {
     "base_uri": "https://localhost:8080/"
    },
    "id": "ytxvVmLdcRyw",
    "outputId": "f35c3f30-51e7-4941-b3e3-1dde7d7fd625"
   },
   "outputs": [
    {
     "name": "stdout",
     "output_type": "stream",
     "text": [
      "Discrete(2)\n"
     ]
    }
   ],
   "source": [
    "print(env.action_space)"
   ]
  },
  {
   "cell_type": "markdown",
   "metadata": {
    "id": "pVXGWi_Ncfg-"
   },
   "source": [
    "The observation space is given below. The first two arrays define the min and max values of the 4 observed values, corresponding to cart position, velocity and pole angle, angular velocity."
   ]
  },
  {
   "cell_type": "code",
   "execution_count": null,
   "metadata": {
    "colab": {
     "base_uri": "https://localhost:8080/"
    },
    "id": "DyqHr9I5cdkX",
    "outputId": "9e76a502-84da-4364-e78b-f5e6f39ef5d5"
   },
   "outputs": [
    {
     "name": "stdout",
     "output_type": "stream",
     "text": [
      "Box([-4.8000002e+00 -3.4028235e+38 -4.1887903e-01 -3.4028235e+38], [4.8000002e+00 3.4028235e+38 4.1887903e-01 3.4028235e+38], (4,), float32)\n"
     ]
    }
   ],
   "source": [
    "print(env.observation_space)"
   ]
  },
  {
   "cell_type": "markdown",
   "metadata": {
    "id": "HFOdaU2Gdyg0"
   },
   "source": [
    "We call each round of the pole-balancing game an \"episode\". At the start of each episode, make sure the environment is reset, which chooses a random initial state, e.g., pole slightly tilted to the right. This initialization can be achieved by the code below, which returns the observation of the initial state."
   ]
  },
  {
   "cell_type": "code",
   "execution_count": null,
   "metadata": {
    "colab": {
     "base_uri": "https://localhost:8080/"
    },
    "id": "VMr6qAqxdOsm",
    "outputId": "3578a7e1-4799-4449-fd43-f9e9bf47fa45"
   },
   "outputs": [
    {
     "name": "stdout",
     "output_type": "stream",
     "text": [
      "Initial observations: [-0.04286386 -0.03231818  0.00830536 -0.04774256]\n"
     ]
    }
   ],
   "source": [
    "observation = env.reset()\n",
    "print(\"Initial observations:\", observation)"
   ]
  },
  {
   "cell_type": "markdown",
   "metadata": {
    "id": "qnG2QdfbeZrI"
   },
   "source": [
    "For the CartPole environment, there are two possible actions: 0 for pushing to the left and 1 for pushing to the right. For example, we can push the cart to the left using code below, which returns the new observation, the current reward, an indicator of whether the game ends, and some additional information (not used in this project). For CartPole, the game ends when the pole is significantly tilted or you manage to balance the pole for 500 steps. You get exactly 1 reward for each step before the game ends (i.e., max cumulative reward is 500)."
   ]
  },
  {
   "cell_type": "code",
   "execution_count": null,
   "metadata": {
    "colab": {
     "base_uri": "https://localhost:8080/"
    },
    "id": "MmfMDvyYdWGk",
    "outputId": "0597d41b-c261-424a-b096-b38a1f6ee51c"
   },
   "outputs": [
    {
     "name": "stdout",
     "output_type": "stream",
     "text": [
      "New observations after choosing action 0: [-0.04351023 -0.22755824  0.00735051  0.24754916]\n",
      "Reward for this step: 1.0\n",
      "Is this round done? False\n"
     ]
    }
   ],
   "source": [
    "observation, reward, done, info = env.step(0)\n",
    "print(\"New observations after choosing action 0:\", observation)\n",
    "print(\"Reward for this step:\", reward)\n",
    "print(\"Is this round done?\", done)"
   ]
  },
  {
   "cell_type": "markdown",
   "metadata": {
    "id": "tj0zCh59fhBb"
   },
   "source": [
    "Now we can play a full round of the game using a naive strategy (always choosing action 0), and show the cumulative reward in the round. Note that reward returned by env.step(*) corresponds to the reward for current step. So we have to accumulate the reward for each step. Clearly, the naive strategy performs poorly by surviving only a dozen of steps."
   ]
  },
  {
   "cell_type": "code",
   "execution_count": null,
   "metadata": {
    "colab": {
     "base_uri": "https://localhost:8080/"
    },
    "id": "AVucQVRwf6Jm",
    "outputId": "4c3d68b9-7931-424b-bb69-4ce20c993a61"
   },
   "outputs": [
    {
     "name": "stdout",
     "output_type": "stream",
     "text": [
      "Cumulative reward for this round: 9.0\n"
     ]
    }
   ],
   "source": [
    "observation = env.reset()\n",
    "cumulative_reward = 0\n",
    "done = False\n",
    "while not done:\n",
    "    observation, reward, done, info = env.step(0)\n",
    "    cumulative_reward += reward\n",
    "print(\"Cumulative reward for this round:\", cumulative_reward)"
   ]
  },
  {
   "cell_type": "markdown",
   "metadata": {
    "id": "gGr69uWh3vzR"
   },
   "source": []
  },
  {
   "cell_type": "markdown",
   "metadata": {
    "id": "2oIzK9SzhlWN"
   },
   "source": [
    "## Task 1: Development of an RL agent"
   ]
  },
  {
   "cell_type": "markdown",
   "metadata": {
    "id": "Cc6_e5c_huiq"
   },
   "source": [
    "Codes have been **taken inspiration from the book**: Python Reinforcement Learning Projects [1]. \n",
    "\n",
    "**Originality of code:** We declare that we have typed all these codes out by ourselves, and have understood each step clearly, and demonstrated our understanding through giving explanations for each step and observation. \n",
    "\n",
    "**Definitions:**\n",
    "- Exploration Rate: controls the probability that the agent will explore instead of exploit. \n",
    "\n",
    "- Learning Rate: controls how much to change the model in response to the estimated error each time the model weights are updated. [2]\n",
    "\n"
   ]
  },
  {
   "cell_type": "code",
   "execution_count": null,
   "metadata": {
    "id": "KeGBr2x5dfR7"
   },
   "outputs": [],
   "source": [
    "# initializing configurations \n",
    "no_buckets = (30, 30, 50, 50) #indicates the levels of discretization for (cart pos, cart velocity, pole angle, pole angular velocity)\n",
    "no_actions = env.action_space.n #number of actions in the action space \n",
    "state_value_bounds = list(zip(env.observation_space.low, env.observation_space.high)) #gets the list of ranges [(cartposlow, cartposhigh), (cartvlow, cartvhigh),...]\n",
    "state_value_bounds[1] = [-0.5, 0.5] #setting a limit for cart velocity, instead of -Inf to Inf \n",
    "state_value_bounds[3] = [-math.radians(50), math.radians(50)] #setting a limit for pole angular velocity, instead of -Inf and Inf \n",
    "action_index = len(no_buckets) \n",
    "q_value_table = np.zeros(no_buckets + (no_actions,)) #initialize q table, where shape of the table can be visualised as below\n",
    "discount = 0.9 #gamma \n",
    "min_explore_rate = 0.1 #the minimum exploration rate - used when randomizing the exploration rate in each episode.\n",
    "min_learning_rate = 0.4 #alpha in the equation "
   ]
  },
  {
   "cell_type": "markdown",
   "metadata": {
    "id": "8onnGV3Do_pk"
   },
   "source": [
    "<img src=\"https://drive.google.com/uc?export=view&id=1WMwwbL-49-xgk49o2zcbVpW4uwmlbE9e\" width=\"300\">\n"
   ]
  },
  {
   "cell_type": "code",
   "execution_count": null,
   "metadata": {
    "id": "9pvZVrCeffaf"
   },
   "outputs": [],
   "source": [
    "def select_action(state_value, explore_rate):\n",
    "  \"\"\"\n",
    "    function to select an action, the agent can either explore or exploit. \n",
    "  \"\"\"\n",
    "  if random.random() < explore_rate:\n",
    "    action = env.action_space.sample() #explore \n",
    "  else: \n",
    "    action = np.argmax(q_value_table[state_value]) #exploit \n",
    "  return action "
   ]
  },
  {
   "cell_type": "code",
   "execution_count": null,
   "metadata": {
    "id": "1YE52qydfuen"
   },
   "outputs": [],
   "source": [
    "def select_explore_rate(x, min_explore_rate=min_explore_rate):\n",
    "  \"\"\"\n",
    "  x : episode number \n",
    "  returns the explore rate \n",
    "  \"\"\"\n",
    "  return max(min_explore_rate, min(1, 1.0-math.log10((x+1)/25)))"
   ]
  },
  {
   "cell_type": "code",
   "execution_count": null,
   "metadata": {
    "id": "1GlS4uVUf60P"
   },
   "outputs": [],
   "source": [
    "def select_learning_rate(x, min_learning_rate=min_learning_rate):\n",
    "  \"\"\"\n",
    "  x : episode number \n",
    "  returns the learning rate \n",
    "  \"\"\"\n",
    "  return max(min_learning_rate, min(1, 1.0-math.log10((x+1)/25)))"
   ]
  },
  {
   "cell_type": "code",
   "execution_count": null,
   "metadata": {
    "id": "uFXiFKcdf-0C"
   },
   "outputs": [],
   "source": [
    "def bucketize_state_value(state_value):\n",
    "  \"\"\"\n",
    "  this function discretizes each state based on the no_buckets and state_value_bounds specified earlier, and returns the discretized state. \n",
    "\n",
    "  \"\"\"\n",
    "  bucket_indexes = [] \n",
    "  for i in range(len(state_value)):\n",
    "    if state_value[i] <= state_value_bounds[i][0]:\n",
    "      bucket_index = 0 \n",
    "    elif state_value[i] >= state_value_bounds[i][1]:\n",
    "      bucket_index = no_buckets[i]-1\n",
    "    else: \n",
    "      bound_width = state_value_bounds[i][1] - state_value_bounds[i][0] \n",
    "      offset = (no_buckets[i]-1)*state_value_bounds[i][0]/bound_width\n",
    "      scaling = (no_buckets[i]-1)/bound_width \n",
    "      bucket_index = int(round(scaling*state_value[i] - offset))\n",
    "    bucket_indexes.append(bucket_index)\n",
    "  return tuple(bucket_indexes)"
   ]
  },
  {
   "cell_type": "markdown",
   "metadata": {
    "id": "atnF1pA9gxgy"
   },
   "source": [
    "When training the agent, here are a few things to note: \n",
    "- The exploration rate is likely to decrease as episode no. increases, this method is known as annealing, to optimize the learning [3]. \n",
    "- Similarly for the learning rate. \n",
    "- These are reflected in the functions: select_learning_rate and select_explore_rate, where episode number is taken into account.\n",
    "\n",
    "Each episode stops when completed = True only under the following conditions:\n",
    "1. Pole angle greater than +-12 deg \n",
    "2. Cart pos greater than +-2.4 \n",
    "3. Episode length is greater than 500 \n",
    "\n",
    "Reward = +1 for every step taken \n",
    "\n"
   ]
  },
  {
   "cell_type": "markdown",
   "metadata": {
    "id": "WDp7TSqG6p8R"
   },
   "source": [
    "Idea of Q learning algorithm: \n",
    "\n",
    "1. For each step of episode, choose an action A using epsilon greedy policy, derived from Q.\n",
    "2. Take action A, observe R, S' (Reward and Next State) \n",
    "3. Q(S,A) <- Q(S,A) + learning_rate [R + gamma(max_aQ(S',a)) - Q(S,A)]"
   ]
  },
  {
   "cell_type": "code",
   "execution_count": null,
   "metadata": {
    "colab": {
     "base_uri": "https://localhost:8080/"
    },
    "id": "zYiww59oh1rl",
    "outputId": "e988984d-5486-498e-b95e-d2c038eb50fb"
   },
   "outputs": [
    {
     "name": "stdout",
     "output_type": "stream",
     "text": [
      "Episode: 0, Reward: 42.0\n",
      "Episode: 2000, Reward: 10.0\n",
      "Episode: 4000, Reward: 9.0\n",
      "Episode: 6000, Reward: 17.0\n",
      "Episode: 8000, Reward: 12.0\n",
      "Episode: 10000, Reward: 17.0\n",
      "Episode: 12000, Reward: 10.0\n",
      "Episode: 14000, Reward: 19.0\n",
      "Episode: 16000, Reward: 12.0\n",
      "Episode: 18000, Reward: 119.0\n",
      "Episode: 20000, Reward: 302.0\n",
      "Episode: 22000, Reward: 18.0\n",
      "Episode: 24000, Reward: 372.0\n",
      "Episode: 26000, Reward: 26.0\n",
      "Episode: 28000, Reward: 210.0\n",
      "Episode: 30000, Reward: 364.0\n",
      "Episode: 32000, Reward: 54.0\n",
      "Episode: 34000, Reward: 500.0\n",
      "Episode: 36000, Reward: 38.0\n",
      "Episode: 38000, Reward: 191.0\n",
      "Episode: 40000, Reward: 157.0\n",
      "Episode: 42000, Reward: 500.0\n",
      "Episode: 44000, Reward: 484.0\n",
      "Episode: 46000, Reward: 500.0\n",
      "Episode: 48000, Reward: 218.0\n",
      "Episode: 50000, Reward: 250.0\n",
      "Episode: 52000, Reward: 144.0\n",
      "Episode: 54000, Reward: 500.0\n",
      "Episode: 56000, Reward: 500.0\n",
      "Episode: 58000, Reward: 500.0\n"
     ]
    }
   ],
   "source": [
    "# training the agent \n",
    "for episode_no in range(60000):\n",
    "  explore_rate = select_explore_rate(episode_no) #select explore rate with annealling and randomization \n",
    "  learning_rate = select_learning_rate(episode_no) #select learning rate with annealling and randomization \n",
    "\n",
    "  observation = env.reset() #reset the initial state \n",
    "  start_state = bucketize_state_value(observation) #discretize/ bucketize the state value\n",
    "  prev_state = start_state \n",
    "\n",
    "  total_reward = 0 \n",
    "  completed = False \n",
    "  while not completed: #loop until the episode ends based on the terminating conditions aforementioned. \n",
    "    selected_action = select_action(prev_state, explore_rate) #select an action based on the explore rate, explore/ exploit. \n",
    "    observation, reward_gain, completed, _ = env.step(selected_action)\n",
    "    state_value = bucketize_state_value(observation)\n",
    "    best_q_value =np.amax(q_value_table[state_value]) # max_a Q(S', a)\n",
    "    q_value_table[prev_state + (selected_action,)] += learning_rate * (reward_gain + discount * best_q_value - q_value_table[prev_state + (selected_action, )]) # q learning equation \n",
    "    total_reward += reward_gain\n",
    "    prev_state = state_value \n",
    "\n",
    "  if episode_no%2000==0:\n",
    "      print(\"Episode: \"+str(episode_no)+\", Reward: \"+ str(total_reward))\n"
   ]
  },
  {
   "cell_type": "markdown",
   "metadata": {
    "id": "b_XKdL6uTqa1"
   },
   "source": [
    "The agent is able to make the correct choices progressively, in general, at every 2000 episode. This is reflected at the trend of increasing rewards as episode number increases. The random dips are likely due to the stochastic nature of the environment."
   ]
  },
  {
   "cell_type": "markdown",
   "metadata": {
    "id": "RAi7KKwNiegR"
   },
   "source": [
    "For Task 1, we can show the observation and chosen action below:"
   ]
  },
  {
   "cell_type": "code",
   "execution_count": null,
   "metadata": {
    "colab": {
     "base_uri": "https://localhost:8080/"
    },
    "id": "ae2ia-vUiNKJ",
    "outputId": "15d0d25c-3482-4a80-8d13-a1040f08e95c"
   },
   "outputs": [
    {
     "name": "stdout",
     "output_type": "stream",
     "text": [
      "Observation: [-0.04683939 -0.00038736 -0.03608012  0.00129256]\n",
      "Chosen action: 0\n"
     ]
    }
   ],
   "source": [
    "observation = env.reset()\n",
    "action = np.argmax(q_value_table[current_state])\n",
    "print(\"Observation:\", observation)\n",
    "print(\"Chosen action:\", action)"
   ]
  },
  {
   "cell_type": "markdown",
   "metadata": {
    "id": "60G6jWmMMlb2"
   },
   "source": [
    "Action = 0 seems reasonable as the pole is currently tipping towards the left (-ve pole angle), so pushing the cart to the left will help the pole regain its balance. "
   ]
  },
  {
   "cell_type": "markdown",
   "metadata": {
    "id": "-XtIQ0Rti1gm"
   },
   "source": [
    "## Task 2: Demonstrate the effectiveness of the RL agent"
   ]
  },
  {
   "cell_type": "code",
   "execution_count": null,
   "metadata": {
    "id": "k-_yQA8EodIc"
   },
   "outputs": [],
   "source": [
    "episode_results = np.zeros(100)\n",
    "for i in range(100):\n",
    "  current_state = bucketize_state_value(env.reset())\n",
    "  cumulative_reward = 0\n",
    "  done = False\n",
    "\n",
    "  while not done:\n",
    "    action = np.argmax(q_value_table[current_state])\n",
    "    observation,reward,done,info = env.step(action)\n",
    "    new_state = bucketize_state_value(observation)\n",
    "    current_state = new_state\n",
    "    cumulative_reward+=reward\n",
    "  episode_results[i] = cumulative_reward"
   ]
  },
  {
   "cell_type": "code",
   "execution_count": null,
   "metadata": {
    "colab": {
     "base_uri": "https://localhost:8080/",
     "height": 295
    },
    "id": "RMxC7IoLqJEg",
    "outputId": "cad3fe55-f194-47e2-8763-708bc3f39ef5"
   },
   "outputs": [
    {
     "data": {
      "image/png": "[encoded data removed]",
      "text/plain": [
       "<Figure size 432x288 with 1 Axes>"
      ]
     },
     "metadata": {
      "needs_background": "light"
     },
     "output_type": "display_data"
    }
   ],
   "source": [
    "plt.plot(episode_results)\n",
    "plt.title('Cumulative reward for each episode')\n",
    "plt.ylabel('Cumulative reward')\n",
    "plt.xlabel('episode')\n",
    "plt.show()"
   ]
  },
  {
   "cell_type": "markdown",
   "metadata": {
    "id": "-m9uMLquT0fx"
   },
   "source": [
    "The cumulative reward still fluctuates, but now, we reach a good enough learnt agent that. "
   ]
  },
  {
   "cell_type": "code",
   "execution_count": null,
   "metadata": {
    "colab": {
     "base_uri": "https://localhost:8080/"
    },
    "id": "S4GgFvAqvqJq",
    "outputId": "6278826d-aebd-466e-a39e-2c53fe48dd3a"
   },
   "outputs": [
    {
     "name": "stdout",
     "output_type": "stream",
     "text": [
      "Average cumulative reward: 357.82\n",
      "Is my agent good enough? True\n"
     ]
    }
   ],
   "source": [
    "print(\"Average cumulative reward:\", episode_results.mean())\n",
    "print(\"Is my agent good enough?\", episode_results.mean() > 195)"
   ]
  },
  {
   "cell_type": "markdown",
   "metadata": {
    "id": "Yg0DCT38lFA6"
   },
   "source": [
    "## Task 3: Render one episode played by the agent"
   ]
  },
  {
   "cell_type": "markdown",
   "metadata": {
    "id": "vx1awMr9lc_w"
   },
   "source": [
    "Plug your agent to the code below to obtain rendered result."
   ]
  },
  {
   "cell_type": "code",
   "execution_count": null,
   "metadata": {
    "colab": {
     "base_uri": "https://localhost:8080/",
     "height": 421
    },
    "id": "LYyavfbIa47D",
    "outputId": "466aa906-0ade-43bd-95a3-f0b5e605b1d9"
   },
   "outputs": [
    {
     "data": {
      "text/html": [
       "<video alt=\"test\" autoplay \n",
       "                loop controls style=\"height: 400px;\">\n",
       "                <source src=\"data:video/mp4;base64,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\" type=\"video/mp4\" />\n",
       "             </video>"
      ],
      "text/plain": [
       "<IPython.core.display.HTML object>"
      ]
     },
     "metadata": {},
     "output_type": "display_data"
    }
   ],
   "source": [
    "env = RecordVideo(gym.make(\"CartPole-v1\"), \"./video\")\n",
    "observation = env.reset()\n",
    "while True:\n",
    "    env.render()\n",
    "    #your agent goes here\n",
    "    action = np.argmax(q_value_table[bucketize_state_value(observation)])\n",
    "    observation, reward, done, info = env.step(action) \n",
    "    if done: \n",
    "      break;    \n",
    "env.close()\n",
    "show_video()"
   ]
  },
  {
   "cell_type": "markdown",
   "metadata": {
    "id": "-8vAf5BR_uL4"
   },
   "source": [
    "# Task 4a: Observations\n"
   ]
  },
  {
   "cell_type": "markdown",
   "metadata": {
    "id": "VizPb7QpxaC9"
   },
   "source": [
    "## A: The higher the number of episodes trained, the better the agent performs "
   ]
  },
  {
   "cell_type": "code",
   "execution_count": null,
   "metadata": {
    "id": "kZ0VwzKkzI40"
   },
   "outputs": [],
   "source": [
    "def train_agent(epi_num, env=gym.make(\"CartPole-v1\"), q_table=np.zeros(no_buckets + (no_actions,)), \n",
    "                min_learning_rate=min_learning_rate, min_explore_rate=min_explore_rate):\n",
    "  for episode_no in range(epi_num):\n",
    "    explore_rate = select_explore_rate(episode_no, min_explore_rate=min_explore_rate)\n",
    "    learning_rate = select_learning_rate(episode_no, min_learning_rate=min_learning_rate)\n",
    "\n",
    "    observation = env.reset() \n",
    "    start_state = bucketize_state_value(observation)\n",
    "    prev_state = start_state \n",
    "    \n",
    "    total_reward = 0 \n",
    "    completed = False \n",
    "    while not completed:\n",
    "      selected_action = select_action(prev_state, explore_rate)\n",
    "      observation, reward_gain, completed, _ = env.step(selected_action)\n",
    "      state_value = bucketize_state_value(observation)\n",
    "      best_q_value =np.amax(q_table[state_value])\n",
    "      q_table[prev_state + (selected_action,)] += learning_rate * (reward_gain + discount * best_q_value - q_table[prev_state + (selected_action, )])\n",
    "      total_reward += reward_gain\n",
    "      prev_state = state_value \n",
    "\n",
    "  # if episode_no%2000==0:\n",
    "  #     print(\"Episode: \"+str(episode_no)+\", Reward: \"+ str(total_reward))\n",
    "\n",
    "  return q_table \n",
    "\n",
    "def get_results(q_table, env=gym.make(\"CartPole-v1\")):\n",
    "  episode_results = np.zeros(100)\n",
    "  for i in range(100):\n",
    "    current_state = bucketize_state_value(env.reset())\n",
    "    cumulative_reward = 0\n",
    "    done = False\n",
    "    while not done:\n",
    "      action = np.argmax(q_table[current_state])\n",
    "      observation,reward,done,info = env.step(action)\n",
    "      new_state = bucketize_state_value(observation)\n",
    "      current_state = new_state\n",
    "      cumulative_reward+=reward\n",
    "    episode_results[i] = cumulative_reward\n",
    "  return episode_results"
   ]
  },
  {
   "cell_type": "code",
   "execution_count": null,
   "metadata": {
    "id": "7qLl4fjx_yFZ"
   },
   "outputs": [],
   "source": [
    "# to test the hypothesis, let's plot a graph of avg rewards for 1000, 6000, 11000, ... until 51000\n",
    "hypothesis_results = {} \n",
    "for num_ep in range(1000, 50000, 5000):\n",
    "  q_table = train_agent(num_ep)\n",
    "  episode_results = get_results(q_table)\n",
    "  hypothesis_results[f\"{num_ep}\"] = episode_results.mean()"
   ]
  },
  {
   "cell_type": "code",
   "execution_count": null,
   "metadata": {
    "colab": {
     "base_uri": "https://localhost:8080/",
     "height": 302
    },
    "id": "75evjxDL3clh",
    "outputId": "40ddd02b-5682-4ffd-f70c-d53fee6ccd59"
   },
   "outputs": [
    {
     "name": "stdout",
     "output_type": "stream",
     "text": [
      "{'1000': 12.83, '6000': 13.74, '11000': 29.53, '16000': 45.51, '21000': 76.98, '26000': 76.89, '31000': 139.1, '36000': 62.5, '41000': 110.78, '46000': 128.12}\n"
     ]
    },
    {
     "data": {
      "image/png": "[encoded data removed]",
      "text/plain": [
       "<Figure size 432x288 with 1 Axes>"
      ]
     },
     "metadata": {
      "needs_background": "light"
     },
     "output_type": "display_data"
    }
   ],
   "source": [
    "# plot the results \n",
    "print(hypothesis_results)\n",
    "x = list(hypothesis_results.keys())\n",
    "y = list(hypothesis_results.values())\n",
    "\n",
    "plt.bar(range(len(hypothesis_results)), y, tick_label=x)\n",
    "plt.show()\n",
    "\n",
    "# this is cumulated rewards against number of episodes that we are training the agent"
   ]
  },
  {
   "cell_type": "markdown",
   "metadata": {
    "id": "dYn6Jb9pFb5K"
   },
   "source": [
    "Observation: cumulated rewards against number of episodes that we are training the agent.\n",
    "\n",
    "Shows general upward trend but with a dip at 36000, again reflecting the randomness of the environment."
   ]
  },
  {
   "cell_type": "markdown",
   "metadata": {
    "id": "pr8Xo2SF3fgr"
   },
   "source": [
    "## B: The higher the min exploration rate... "
   ]
  },
  {
   "cell_type": "code",
   "execution_count": null,
   "metadata": {
    "id": "ePK1Jy9_LTjV"
   },
   "outputs": [],
   "source": [
    "import time"
   ]
  },
  {
   "cell_type": "markdown",
   "metadata": {
    "id": "jtNpF4B8RYOg"
   },
   "source": [
    "### 1. Mean cumulated rewards against exploration rate"
   ]
  },
  {
   "cell_type": "code",
   "execution_count": null,
   "metadata": {
    "id": "p5uaRtNs7873"
   },
   "outputs": [],
   "source": [
    "min_exploration_rates = [0.1, 0.2, 0.3, 0.4, 0.5, 0.6, 0.7, 0.8, 0.9]\n",
    "hypothesis_results = {}\n",
    "hypothesis_time = {} \n",
    "for explore_rate in min_exploration_rates:\n",
    "  start_time = time.time()\n",
    "  q_table = train_agent(40000, min_explore_rate=explore_rate)\n",
    "  hypothesis_time[f\"{explore_rate}\"] = time.time() - start_time\n",
    "  episode_results = get_results(q_table) #get results for 100 episodes \n",
    "  hypothesis_results[f\"{explore_rate}\"] = episode_results.mean()\n"
   ]
  },
  {
   "cell_type": "code",
   "execution_count": null,
   "metadata": {
    "colab": {
     "base_uri": "https://localhost:8080/",
     "height": 282
    },
    "id": "NBZwgYpbAQAJ",
    "outputId": "3d90047f-fc51-43f8-f375-a3ba580f7620"
   },
   "outputs": [
    {
     "name": "stdout",
     "output_type": "stream",
     "text": [
      "{'0.1': 42.58, '0.2': 88.36, '0.3': 182.54, '0.4': 321.42, '0.5': 311.65, '0.6': 316.76, '0.7': 362.19, '0.8': 405.57, '0.9': 402.9}\n"
     ]
    },
    {
     "data": {
      "image/png": "[encoded data removed]",
      "text/plain": [
       "<Figure size 432x288 with 1 Axes>"
      ]
     },
     "metadata": {
      "needs_background": "light"
     },
     "output_type": "display_data"
    }
   ],
   "source": [
    "# plot the results \n",
    "print(hypothesis_results)\n",
    "x = list(hypothesis_results.keys())\n",
    "y = list(hypothesis_results.values())\n",
    "\n",
    "plt.bar(range(len(hypothesis_results)), y, tick_label=x)\n",
    "plt.show()"
   ]
  },
  {
   "cell_type": "markdown",
   "metadata": {},
   "source": [
    "Observation: mean cumulated rewards against min exploration rate, trained for 40000 episodes, and tested on 100 episodes. \n",
    "\n",
    "Shows upward trend, the cumulated rewards are likely to be higher if the agent explores more in a set number of episodes, which in this case is 40000. "
   ]
  },
  {
   "cell_type": "markdown",
   "metadata": {
    "id": "v2QOCy7dRFMh"
   },
   "source": [
    "### 2. Average Time against Exploration Rate"
   ]
  },
  {
   "cell_type": "code",
   "execution_count": null,
   "metadata": {
    "colab": {
     "base_uri": "https://localhost:8080/",
     "height": 265
    },
    "id": "wEKeNwhEMizp",
    "outputId": "2e187cb3-55d0-4c9f-c89f-aaf9cb708656"
   },
   "outputs": [
    {
     "data": {
      "image/png": "[encoded data removed]",
      "text/plain": [
       "<Figure size 432x288 with 1 Axes>"
      ]
     },
     "metadata": {
      "needs_background": "light"
     },
     "output_type": "display_data"
    }
   ],
   "source": [
    "# plot time results \n",
    "\n",
    "x = list(hypothesis_time.keys())\n",
    "y = list(hypothesis_time.values())\n",
    "\n",
    "plt.bar(range(len(hypothesis_time)), y, tick_label=x)\n",
    "plt.show()"
   ]
  },
  {
   "cell_type": "markdown",
   "metadata": {
    "id": "xoFlaCZiOj1-"
   },
   "source": [
    "Observation: \n",
    "in general, the average time taken to complete one episode increases as the exploration rate increases. \n"
   ]
  },
  {
   "cell_type": "markdown",
   "metadata": {},
   "source": [
    "There is also a tradeoff between time taken to complete the learning for 40000 episodes and the cumulative rewards when testing. "
   ]
  },
  {
   "cell_type": "markdown",
   "metadata": {
    "id": "MqQe0aA03jz1"
   },
   "source": [
    "## C: The higher the min learning rate... "
   ]
  },
  {
   "cell_type": "code",
   "execution_count": null,
   "metadata": {
    "id": "TUEby5yrKyOW"
   },
   "outputs": [],
   "source": [
    "min_learning_rates = [0.1, 0.2, 0.3, 0.4, 0.5, 0.6, 0.7, 0.8, 0.9]\n",
    "hypothesis_results = {}\n",
    "hypothesis_time = {} \n",
    "for learning_rate in min_learning_rates:\n",
    "  start_time = time.time()\n",
    "  q_table = train_agent(40000, min_learning_rate=learning_rate)\n",
    "  hypothesis_time[f\"{learning_rate}\"] = time.time() - start_time\n",
    "  episode_results = get_results(q_table)\n",
    "  hypothesis_results[f\"{learning_rate}\"] = episode_results.mean()\n"
   ]
  },
  {
   "cell_type": "markdown",
   "metadata": {
    "id": "MM6dmUnpTG0o"
   },
   "source": [
    "### 1. Mean cumulated rewards against learning rate"
   ]
  },
  {
   "cell_type": "code",
   "execution_count": null,
   "metadata": {
    "colab": {
     "base_uri": "https://localhost:8080/",
     "height": 298
    },
    "id": "w0A6uw1RMu-o",
    "outputId": "49fe4c3d-7851-4d46-8759-721de5dae653"
   },
   "outputs": [
    {
     "name": "stdout",
     "output_type": "stream",
     "text": [
      "{'0.1': 423.59, '0.2': 410.89, '0.3': 361.16, '0.4': 348.66, '0.5': 314.69, '0.6': 366.95, '0.7': 335.82, '0.8': 376.14, '0.9': 155.78}\n"
     ]
    },
    {
     "data": {
      "image/png": "[encoded data removed]",
      "text/plain": [
       "<Figure size 432x288 with 1 Axes>"
      ]
     },
     "metadata": {
      "needs_background": "light"
     },
     "output_type": "display_data"
    }
   ],
   "source": [
    "# plot the results \n",
    "print(hypothesis_results)\n",
    "x = list(hypothesis_results.keys())\n",
    "y = list(hypothesis_results.values())\n",
    "plt.title(\"Mean cumulated rewards vs Learning rate\")\n",
    "plt.bar(range(len(hypothesis_results)), y, tick_label=x)\n",
    "plt.show()"
   ]
  },
  {
   "cell_type": "markdown",
   "metadata": {
    "id": "X59g3N88SJ74"
   },
   "source": [
    "Increasing the learning rate by too much, may decrease the accuracy of the agent. "
   ]
  },
  {
   "cell_type": "markdown",
   "metadata": {
    "id": "IjvRXgsuTPR4"
   },
   "source": [
    "### 2. Average time per episode against Learning Rate"
   ]
  },
  {
   "cell_type": "code",
   "execution_count": null,
   "metadata": {
    "colab": {
     "base_uri": "https://localhost:8080/",
     "height": 266
    },
    "id": "mU-bksL3Mu-o",
    "outputId": "0efef22f-636b-4c8b-9a84-c43a36eed843"
   },
   "outputs": [
    {
     "data": {
      "image/png": "[encoded data removed]",
      "text/plain": [
       "<Figure size 432x288 with 1 Axes>"
      ]
     },
     "metadata": {
      "needs_background": "light"
     },
     "output_type": "display_data"
    }
   ],
   "source": [
    "# plot time results \n",
    "\n",
    "x = list(hypothesis_time.keys())\n",
    "y = list(hypothesis_time.values())\n",
    "\n",
    "plt.bar(range(len(hypothesis_time)), y, tick_label=x)\n",
    "plt.show()"
   ]
  },
  {
   "cell_type": "markdown",
   "metadata": {
    "id": "qp3st6IvSRC_"
   },
   "source": [
    "No particular trend for time. "
   ]
  },
  {
   "cell_type": "markdown",
   "metadata": {
    "id": "b8a2vq7wU4Uc"
   },
   "source": [
    "# Task 4b: How does Q_learning agent perform without Annealling?"
   ]
  },
  {
   "cell_type": "markdown",
   "metadata": {
    "id": "hXQbXatPb1Eo"
   },
   "source": [
    "## With Annealling "
   ]
  },
  {
   "cell_type": "code",
   "execution_count": null,
   "metadata": {
    "colab": {
     "base_uri": "https://localhost:8080/"
    },
    "id": "MVnpSTPLbypV",
    "outputId": "01d480e0-858e-498b-ba56-08aee86c4333"
   },
   "outputs": [
    {
     "name": "stdout",
     "output_type": "stream",
     "text": [
      "Episode: 0, Reward: 46.0 , Time: 0.011986255645751953\n",
      "Episode: 2000, Reward: 9.0 , Time: 5.636455297470093\n",
      "Episode: 4000, Reward: 12.0 , Time: 9.605300426483154\n",
      "Episode: 6000, Reward: 14.0 , Time: 13.709104061126709\n",
      "Episode: 8000, Reward: 12.0 , Time: 19.35977578163147\n",
      "Episode: 10000, Reward: 15.0 , Time: 25.460246801376343\n",
      "Episode: 12000, Reward: 22.0 , Time: 31.812737226486206\n",
      "Episode: 14000, Reward: 23.0 , Time: 41.88807272911072\n",
      "Episode: 16000, Reward: 45.0 , Time: 54.60723662376404\n",
      "Episode: 18000, Reward: 25.0 , Time: 72.11561465263367\n",
      "Episode: 20000, Reward: 96.0 , Time: 99.02816224098206\n",
      "Episode: 22000, Reward: 45.0 , Time: 130.09304237365723\n",
      "Episode: 24000, Reward: 56.0 , Time: 167.4773542881012\n",
      "Episode: 26000, Reward: 417.0 , Time: 213.94988799095154\n",
      "Episode: 28000, Reward: 27.0 , Time: 263.7466607093811\n",
      "Episode: 30000, Reward: 47.0 , Time: 318.1780469417572\n",
      "Episode: 32000, Reward: 33.0 , Time: 372.1923110485077\n",
      "Episode: 34000, Reward: 188.0 , Time: 426.27114367485046\n",
      "Episode: 36000, Reward: 74.0 , Time: 489.0102536678314\n",
      "Episode: 38000, Reward: 136.0 , Time: 553.1270322799683\n",
      "Episode: 40000, Reward: 500.0 , Time: 612.0989151000977\n",
      "Episode: 42000, Reward: 87.0 , Time: 672.6568918228149\n",
      "Episode: 44000, Reward: 43.0 , Time: 740.946282863617\n",
      "Episode: 46000, Reward: 334.0 , Time: 807.3496067523956\n",
      "Episode: 48000, Reward: 217.0 , Time: 876.831346988678\n"
     ]
    }
   ],
   "source": [
    "# training the agent \n",
    "start_time = time.time() \n",
    "q_value_table = np.zeros(no_buckets + (no_actions,)) \n",
    "for episode_no in range(50000):\n",
    "\n",
    "  explore_rate = select_explore_rate(episode_no)\n",
    "  learning_rate = select_learning_rate(episode_no)\n",
    "\n",
    "  observation = env.reset() \n",
    "  start_state = bucketize_state_value(observation)\n",
    "  prev_state = start_state \n",
    "\n",
    "  total_reward = 0 \n",
    "  completed = False \n",
    "  while not completed:\n",
    "    selected_action = select_action(prev_state, explore_rate)\n",
    "    observation, reward_gain, completed, _ = env.step(selected_action)\n",
    "    state_value = bucketize_state_value(observation)\n",
    "    best_q_value =np.amax(q_value_table[state_value])\n",
    "    q_value_table[prev_state + (selected_action,)] += learning_rate * (reward_gain + discount * best_q_value - q_value_table[prev_state + (selected_action, )]) # q learning equation \n",
    "    total_reward += reward_gain\n",
    "    prev_state = state_value \n",
    "\n",
    "  if episode_no%2000==0:\n",
    "      print(\"Episode: \"+str(episode_no)+\", Reward: \"+ str(total_reward), \", Time: \"+str(time.time()-start_time))\n"
   ]
  },
  {
   "cell_type": "markdown",
   "metadata": {
    "id": "drdXNOBKcQIw"
   },
   "source": [
    "## Without Annealling "
   ]
  },
  {
   "cell_type": "code",
   "execution_count": null,
   "metadata": {
    "colab": {
     "base_uri": "https://localhost:8080/"
    },
    "id": "pAxwNHidm2ZI",
    "outputId": "1dd867b0-67d6-4074-a3ce-9d42ef615247"
   },
   "outputs": [
    {
     "name": "stdout",
     "output_type": "stream",
     "text": [
      "Episode: 0, Reward: 11.0 , Time: 0.0034279823303222656\n",
      "Episode: 2000, Reward: 13.0 , Time: 2.9623515605926514\n",
      "Episode: 4000, Reward: 12.0 , Time: 8.536808490753174\n",
      "Episode: 6000, Reward: 9.0 , Time: 15.421195030212402\n",
      "Episode: 8000, Reward: 14.0 , Time: 25.285938024520874\n",
      "Episode: 10000, Reward: 10.0 , Time: 31.67749333381653\n",
      "Episode: 12000, Reward: 22.0 , Time: 39.53916621208191\n",
      "Episode: 14000, Reward: 80.0 , Time: 52.292031049728394\n",
      "Episode: 16000, Reward: 13.0 , Time: 69.17106461524963\n",
      "Episode: 18000, Reward: 10.0 , Time: 98.09661364555359\n",
      "Episode: 20000, Reward: 18.0 , Time: 122.29686212539673\n",
      "Episode: 22000, Reward: 59.0 , Time: 154.48192167282104\n",
      "Episode: 24000, Reward: 27.0 , Time: 191.81731295585632\n",
      "Episode: 26000, Reward: 80.0 , Time: 240.17306327819824\n",
      "Episode: 28000, Reward: 49.0 , Time: 291.8186070919037\n",
      "Episode: 30000, Reward: 28.0 , Time: 343.73214888572693\n",
      "Episode: 32000, Reward: 123.0 , Time: 392.2221369743347\n",
      "Episode: 34000, Reward: 500.0 , Time: 446.3898012638092\n",
      "Episode: 36000, Reward: 48.0 , Time: 504.15985679626465\n",
      "Episode: 38000, Reward: 104.0 , Time: 563.346941947937\n",
      "Episode: 40000, Reward: 117.0 , Time: 629.2083320617676\n",
      "Episode: 42000, Reward: 32.0 , Time: 693.2986485958099\n",
      "Episode: 44000, Reward: 181.0 , Time: 758.7284989356995\n",
      "Episode: 46000, Reward: 53.0 , Time: 815.5458016395569\n",
      "Episode: 48000, Reward: 162.0 , Time: 879.0409064292908\n"
     ]
    }
   ],
   "source": [
    "# training the agent \n",
    "start_time = time.time() \n",
    "q_value_table = np.zeros(no_buckets + (no_actions,)) \n",
    "for episode_no in range(50000):\n",
    "\n",
    "  explore_rate = min_explore_rate\n",
    "  learning_rate = min_learning_rate\n",
    "\n",
    "  observation = env.reset() \n",
    "  start_state = bucketize_state_value(observation)\n",
    "  prev_state = start_state \n",
    "\n",
    "  total_reward = 0 \n",
    "  completed = False \n",
    "  while not completed:\n",
    "    selected_action = select_action(prev_state, explore_rate)\n",
    "    observation, reward_gain, completed, _ = env.step(selected_action)\n",
    "    state_value = bucketize_state_value(observation)\n",
    "    best_q_value =np.amax(q_value_table[state_value])\n",
    "    q_value_table[prev_state + (selected_action,)] += learning_rate * (reward_gain + discount * best_q_value - q_value_table[prev_state + (selected_action, )]) # q learning equation \n",
    "    total_reward += reward_gain\n",
    "    prev_state = state_value \n",
    "\n",
    "  if episode_no%2000==0:\n",
    "      print(\"Episode: \"+str(episode_no)+\", Reward: \"+ str(total_reward), \", Time: \"+str(time.time()-start_time))"
   ]
  },
  {
   "cell_type": "markdown",
   "metadata": {
    "id": "6RSDZ2qEpMgA"
   },
   "source": [
    "As seen, Annealling helps to reduce the training time slightly, but again, it may depend on the situation due to the randomness of the environment. Therefore, we cannot draw strict conclusions just from one instance. "
   ]
  },
  {
   "cell_type": "markdown",
   "metadata": {
    "id": "ps0Mpoci3S6B"
   },
   "source": [
    "## Are there other ways to reduce time taken for training?"
   ]
  },
  {
   "cell_type": "markdown",
   "metadata": {
    "id": "HsI_zQ7IDvSW"
   },
   "source": [
    "1. Experience Replay Q-Learning updates are incremental and converge gradually. Multiple iterations of the Q-function are necessary for convergence. Utilizing an experience replay buffer would be beneficial. (Kumar, 2020)\n",
    "\n"
   ]
  },
  {
   "cell_type": "markdown",
   "metadata": {
    "id": "3eEvs_dN_y5x"
   },
   "source": [
    "# References\n",
    "[1] S. Saito, Y. Wenzhuo, and R. Shanmugamani, Python reinforcement learning projects: Eight hands-on projects exploring reinforcement learning algorithms using tensorflow. Birmingham: Packt Publishing Ltd, 2018. \n",
    "\n",
    "[2] J. Brownlee, “Understand the impact of learning rate on neural network performance,” MachineLearningMastery.com, 11-Sep-2020. [Online]. Available: https://machinelearningmastery.com/understand-the-dynamics-of-learning-rate-on-deep-learning-neural-networks/. [Accessed: 25-Mar-2023]. \n",
    "\n",
    "[3] V. Lendave, “How to use learning rate annealing with neural networks?,” Analytics India Magazine, 27-Nov-2021. [Online]. Available: https://analyticsindiamag.com/how-to-use-learning-rate-annealing-with-neural-networks/#:~:text=into%20the%20picture.-,What%20is%20Learning%20Rate%20Annealing%3F,rates%20or%20learning%20rate%20annealing. [Accessed: 25-Mar-2023]. \n",
    "\n",
    "\n",
    "[4] Kumar, S. (2020, June 12). Balancing a cartpole system with reinforcement learning -- a tutorial. arXiv.org. Retrieved March 25, 2023, from https://arxiv.org/abs/2006.04938v2  [Retrieved March 25, 2023]\n",
    "\n"
   ]
  }
 ],
 "metadata": {
  "colab": {
   "collapsed_sections": [
    "-XtIQ0Rti1gm",
    "Yg0DCT38lFA6"
   ],
   "provenance": []
  },
  "kernelspec": {
   "display_name": "Python 3 (ipykernel)",
   "language": "python",
   "name": "python3"
  },
  "language_info": {
   "codemirror_mode": {
    "name": "ipython",
    "version": 3
   },
   "file_extension": ".py",
   "mimetype": "text/x-python",
   "name": "python",
   "nbconvert_exporter": "python",
   "pygments_lexer": "ipython3",
   "version": "3.9.7"
  }
 },
 "nbformat": 4,
 "nbformat_minor": 1
}
